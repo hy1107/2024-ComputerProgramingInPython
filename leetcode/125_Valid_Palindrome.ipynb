{
 "cells": [
  {
   "cell_type": "code",
   "execution_count": null,
   "metadata": {},
   "outputs": [],
   "source": [
    "class Solution(object):\n",
    "    def isPalindrome(self, s):\n",
    "        \"\"\"\n",
    "        :type s: str\n",
    "        :rtype: bool\n",
    "        \"\"\"\n",
    "        result=''\n",
    "        for i in s:\n",
    "            if i.isalnum():\n",
    "                result+=i.lower()\n",
    "        if result==result[::-1]:\n",
    "            return True\n",
    "        return False"
   ]
  }
 ],
 "metadata": {
  "language_info": {
   "name": "python"
  }
 },
 "nbformat": 4,
 "nbformat_minor": 2
}
