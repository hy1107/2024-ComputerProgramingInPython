{
 "cells": [
  {
   "cell_type": "code",
   "execution_count": null,
   "metadata": {},
   "outputs": [],
   "source": [
    "class Solution(object):\n",
    "    def romanToInt(self, s):\n",
    "        \"\"\"\n",
    "        :type s: str\n",
    "        :rtype: int\n",
    "        \"\"\"\n",
    "        num_list = []\n",
    "        Symbol_dict = {\n",
    "            \"I\": 1,\n",
    "            \"V\": 5,\n",
    "            \"X\": 10,\n",
    "            \"L\": 50,\n",
    "            \"C\": 100,\n",
    "            \"D\": 500,\n",
    "            \"M\": 1000,\n",
    "        }\n",
    "        sum = 0\n",
    "        list_s = list(s)\n",
    "        \n",
    "        for index in range(len(list_s)-1, -1, -1):\n",
    "            if index == (len(list_s)-1):\n",
    "                sum += Symbol_dict[list_s[index]]\n",
    "            else:\n",
    "                if Symbol_dict[list_s[index+1]] > Symbol_dict[list_s[index]]:\n",
    "                    sum -= Symbol_dict[list_s[index]]\n",
    "                else:\n",
    "                    sum += Symbol_dict[list_s[index]]\n",
    "\n",
    "        return sum\n",
    "        "
   ]
  }
 ],
 "metadata": {
  "language_info": {
   "name": "python"
  }
 },
 "nbformat": 4,
 "nbformat_minor": 2
}
