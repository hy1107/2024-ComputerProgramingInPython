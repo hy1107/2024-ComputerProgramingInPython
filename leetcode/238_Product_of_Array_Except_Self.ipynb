{
 "cells": [
  {
   "cell_type": "code",
   "execution_count": null,
   "metadata": {},
   "outputs": [],
   "source": [
    "class Solution(object):\n",
    "    def productExceptSelf(self, nums):\n",
    "        \"\"\"\n",
    "        :type nums: List[int]\n",
    "        :rtype: List[int]\n",
    "        \"\"\"\n",
    "        n = len(nums)\n",
    "        l2r = [1 for _ in range(n)]\n",
    "        r2l = [1 for _ in range(n)]\n",
    "\n",
    "        cur_val = 1\n",
    "        for i in range(n):\n",
    "            cur_val *= nums[i]\n",
    "            l2r[i] = cur_val\n",
    "\n",
    "        cur_val = 1\n",
    "        for i in range(n-1, -1, -1):\n",
    "            cur_val *= nums[i]\n",
    "            r2l[i] = cur_val\n",
    "\n",
    "        result = [1 for _ in range(n)]\n",
    "        for i in range(n):\n",
    "            if i == 0:\n",
    "                result[i] = r2l[i+1]\n",
    "            elif i == n-1:\n",
    "                result[i] = l2r[i-1]\n",
    "            else:\n",
    "                result[i] = l2r[i-1] * r2l[i+1]\n",
    "        return result"
   ]
  }
 ],
 "metadata": {
  "language_info": {
   "name": "python"
  }
 },
 "nbformat": 4,
 "nbformat_minor": 2
}
