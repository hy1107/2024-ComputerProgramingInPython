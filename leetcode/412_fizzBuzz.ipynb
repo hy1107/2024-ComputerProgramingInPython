{
 "cells": [
  {
   "cell_type": "code",
   "execution_count": null,
   "metadata": {},
   "outputs": [],
   "source": [
    "class Solution(object):\n",
    "    def fizzBuzz(self, n):\n",
    "        \"\"\"\n",
    "        :type n: int\n",
    "        :rtype: List[str]\n",
    "        \"\"\"\n",
    "        output = []\n",
    "        for i in range(1, n+1, 1):\n",
    "            output.append(str(i))\n",
    "\n",
    "        for x in range(0, len(output)):\n",
    "            if (int(output[x]) % 3 == 0) and (int(output[x]) % 5 == 0):\n",
    "                output[x] = 'FizzBuzz'\n",
    "            elif int(output[x]) % 3 == 0:\n",
    "                output[x] = 'Fizz'\n",
    "            elif int(output[x]) % 5 == 0:\n",
    "                output[x] = 'Buzz'\n",
    "        return output"
   ]
  }
 ],
 "metadata": {
  "language_info": {
   "name": "python"
  }
 },
 "nbformat": 4,
 "nbformat_minor": 2
}
