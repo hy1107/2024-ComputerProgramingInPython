{
 "cells": [
  {
   "cell_type": "code",
   "execution_count": null,
   "metadata": {},
   "outputs": [],
   "source": [
    "class Solution(object):\n",
    "    def numTrees(self, n):\n",
    "        \"\"\"\n",
    "        :type n: int\n",
    "        :rtype: int\n",
    "        \"\"\"\n",
    "        dp=[0]*(n+1)\n",
    "        dp[0]=1\n",
    "        dp[1]=1\n",
    "        for i in range(2,n+1):\n",
    "            for j in range(i):\n",
    "                dp[i]+=dp[j]*dp[i-j-1]\n",
    "        return dp[n]"
   ]
  }
 ],
 "metadata": {
  "language_info": {
   "name": "python"
  }
 },
 "nbformat": 4,
 "nbformat_minor": 2
}
